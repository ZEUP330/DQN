{
 "cells": [
  {
   "cell_type": "code",
   "execution_count": 1,
   "metadata": {},
   "outputs": [],
   "source": [
    "import torch\n",
    "import torch.nn as nn\n",
    "import torch.nn.functional as F\n",
    "import numpy as np\n",
    "import gym\n",
    "from DQN import DQN\n",
    "import numpy as np"
   ]
  },
  {
   "cell_type": "markdown",
   "metadata": {},
   "source": [
    "# Hyper Parameters"
   ]
  },
  {
   "cell_type": "code",
   "execution_count": 2,
   "metadata": {},
   "outputs": [
    {
     "name": "stdout",
     "output_type": "stream",
     "text": [
      "Action: 3\n",
      "States: 6\n",
      "action shape: 0\n"
     ]
    }
   ],
   "source": [
    "\n",
    "BATCH_SIZE = 3000           # the previous memory size for learning\n",
    "LR = 0.01                   # learning rate\n",
    "EPSILON = 0.9               # greedy policy\n",
    "GAMMA = 0.9                 # reward discount\n",
    "TARGET_REPLACE_ITER = 100   # target update frequency\n",
    "MEMORY_CAPACITY = 3000      # memory size\n",
    "env_name = \"Acrobot-v1\"\n",
    "env = gym.make(env_name)\n",
    "env = env.unwrapped\n",
    "N_ACTIONS = env.action_space.n\n",
    "N_STATES = env.observation_space.shape[0]\n",
    "ENV_A_SHAPE = 0 if isinstance(env.action_space.sample(), int) else env.action_space.sample().shape     # to confirm the shape\n",
    "print(\"Action:\", N_ACTIONS)\n",
    "print(\"States:\", N_STATES)\n",
    "print(\"action shape:\", ENV_A_SHAPE)\n",
    "dqn = DQN(BATCH_SIZE = BATCH_SIZE,\n",
    "            LR = LR,\n",
    "            EPSILON = EPSILON,    # gradient policy EPSILON present choose network\n",
    "            GAMMA = GAMMA,        # the target blur level\n",
    "            TARGET_REPLACE_ITER = TARGET_REPLACE_ITER,\n",
    "            MEMORY_CAPACITY = MEMORY_CAPACITY,\n",
    "            N_ACTIONS = N_ACTIONS,\n",
    "            N_STATES = N_STATES,\n",
    "            ENV_A_SHAPE = ENV_A_SHAPE)"
   ]
  },
  {
   "cell_type": "markdown",
   "metadata": {},
   "source": [
    "# Train"
   ]
  },
  {
   "cell_type": "code",
   "execution_count": 4,
   "metadata": {
    "scrolled": true
   },
   "outputs": [
    {
     "name": "stdout",
     "output_type": "stream",
     "text": [
      "\n",
      "Collecting experience...\n",
      "-------- learning --------\n",
      "0\n",
      "Ep:  0 | Ep_r:  -3201.0\n",
      "1\n",
      "Ep:  1 | Ep_r:  -873.0\n",
      "1\n",
      "Ep:  2 | Ep_r:  -271.0\n",
      "1\n",
      "Ep:  3 | Ep_r:  -261.0\n",
      "1\n",
      "Ep:  4 | Ep_r:  -259.0\n",
      "1\n",
      "Ep:  5 | Ep_r:  -233.0\n",
      "0\n",
      "Ep:  6 | Ep_r:  -464.0\n",
      "1\n",
      "Ep:  7 | Ep_r:  -2320.0\n",
      "0\n",
      "Ep:  8 | Ep_r:  -598.0\n",
      "2\n",
      "Ep:  9 | Ep_r:  -1424.0\n",
      "1\n",
      "Ep:  10 | Ep_r:  -555.0\n",
      "1\n",
      "Ep:  11 | Ep_r:  -612.0\n",
      "0\n",
      "Ep:  12 | Ep_r:  -236.0\n",
      "0\n",
      "Ep:  13 | Ep_r:  -384.0\n",
      "0\n",
      "Ep:  14 | Ep_r:  -333.0\n",
      "2\n",
      "Ep:  15 | Ep_r:  -188.0\n",
      "0\n",
      "Ep:  16 | Ep_r:  -157.0\n",
      "0\n",
      "Ep:  17 | Ep_r:  -299.0\n",
      "1\n",
      "Ep:  18 | Ep_r:  -162.0\n",
      "0\n",
      "Ep:  19 | Ep_r:  -222.0\n"
     ]
    }
   ],
   "source": [
    "dqn = DQN(BATCH_SIZE = BATCH_SIZE,\n",
    "            LR = LR,\n",
    "            EPSILON = EPSILON,\n",
    "            GAMMA = GAMMA,\n",
    "            TARGET_REPLACE_ITER = TARGET_REPLACE_ITER,\n",
    "            MEMORY_CAPACITY = MEMORY_CAPACITY,\n",
    "            N_ACTIONS = N_ACTIONS,\n",
    "            N_STATES = N_STATES,\n",
    "            ENV_A_SHAPE = ENV_A_SHAPE)\n",
    "\n",
    "# dqn.eval_net = torch.load(\"1.pkl\").cuda()\n",
    "print('\\nCollecting experience...')\n",
    "for i_episode in range(20):\n",
    "    s = env.reset()\n",
    "    ep_r = 0\n",
    "    while True:\n",
    "        env.render()\n",
    "        a = dqn.choose_action(s)\n",
    "        s_, r, done, info = env.step(a)\n",
    "        if r>-1:\n",
    "            print(a)\n",
    "        dqn.store_transition(s, a, r, s_)\n",
    "        ep_r += r\n",
    "        if dqn.memory_counter > MEMORY_CAPACITY:\n",
    "            if dqn.memory_counter == MEMORY_CAPACITY+1:\n",
    "                print(\"-------- learning --------\")\n",
    "            dqn.learn()\n",
    "        if done:\n",
    "            break\n",
    "        s = s_\n",
    "    print('Ep: ', i_episode,\n",
    "          '| Ep_r: ', round(ep_r, 2))\n",
    "dqn.save_model(env_name)"
   ]
  },
  {
   "cell_type": "markdown",
   "metadata": {},
   "source": [
    "# TEST"
   ]
  },
  {
   "cell_type": "code",
   "execution_count": 13,
   "metadata": {},
   "outputs": [
    {
     "name": "stdout",
     "output_type": "stream",
     "text": [
      "0\n",
      "Ep_r:  -185.0\n"
     ]
    }
   ],
   "source": [
    "def choose_action(s):\n",
    "    x = torch.unsqueeze(torch.FloatTensor(s), 0)\n",
    "    # input only one sample\n",
    "    if np.random.uniform() < dqn.EPSILON:   # greedy\n",
    "        actions_value = dqn.eval_net.forward(x.cuda())\n",
    "        action = torch.max(actions_value, 1)[1].cpu().data.numpy()\n",
    "        action = action[0] if dqn.ENV_A_SHAPE == 0 else action.reshape(dqn.ENV_A_SHAPE)  # return the argmax index\n",
    "    else:   # random\n",
    "        action = np.random.randint(0, dqn.N_ACTIONS)\n",
    "        action = action if dqn.ENV_A_SHAPE == 0 else action.reshape(dqn.ENV_A_SHAPE)\n",
    "    return action\n",
    "\n",
    "dqn = DQN(BATCH_SIZE = BATCH_SIZE,\n",
    "            LR = LR,\n",
    "            EPSILON = 0.5,\n",
    "            GAMMA = GAMMA,\n",
    "            TARGET_REPLACE_ITER = TARGET_REPLACE_ITER,\n",
    "            MEMORY_CAPACITY = MEMORY_CAPACITY,\n",
    "            N_ACTIONS = N_ACTIONS,\n",
    "            N_STATES = N_STATES,\n",
    "            ENV_A_SHAPE = ENV_A_SHAPE)\n",
    "dqn.eval_net = torch.load(env_name+\".pkl\").cuda()\n",
    "\n",
    "s=env.reset()\n",
    "ep_r = 0\n",
    "while True:\n",
    "    env.render()\n",
    "    a = choose_action(s)\n",
    "    dqn.EPSILON += 0.0012   # dynamical adjust greedy\n",
    "    s_, r, done, info = env.step(a)\n",
    "    if r>-1:\n",
    "        print(a)\n",
    "    ep_r += r\n",
    "    if done:\n",
    "        break\n",
    "    s = s_\n",
    "print('Ep_r: ', round(ep_r, 2))"
   ]
  },
  {
   "cell_type": "markdown",
   "metadata": {},
   "source": [
    "# Close environment"
   ]
  },
  {
   "cell_type": "code",
   "execution_count": 14,
   "metadata": {},
   "outputs": [],
   "source": [
    "env.close()"
   ]
  },
  {
   "cell_type": "code",
   "execution_count": 15,
   "metadata": {},
   "outputs": [
    {
     "data": {
      "text/plain": [
       "0.8277021746315054"
      ]
     },
     "execution_count": 15,
     "metadata": {},
     "output_type": "execute_result"
    }
   ],
   "source": [
    " np.random.uniform()"
   ]
  }
 ],
 "metadata": {
  "kernelspec": {
   "display_name": "Python [conda env:pytorch]",
   "language": "python",
   "name": "conda-env-pytorch-py"
  },
  "language_info": {
   "codemirror_mode": {
    "name": "ipython",
    "version": 3
   },
   "file_extension": ".py",
   "mimetype": "text/x-python",
   "name": "python",
   "nbconvert_exporter": "python",
   "pygments_lexer": "ipython3",
   "version": "3.6.6"
  }
 },
 "nbformat": 4,
 "nbformat_minor": 2
}
