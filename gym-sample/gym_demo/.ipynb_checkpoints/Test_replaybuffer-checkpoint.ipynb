{
 "cells": [
  {
   "cell_type": "code",
   "execution_count": 8,
   "metadata": {},
   "outputs": [
    {
     "data": {
      "text/plain": [
       "(array([[23,  2]]), array([[2]]), array([43]), array([[3, 1]]), array([1.]))"
      ]
     },
     "execution_count": 8,
     "metadata": {},
     "output_type": "execute_result"
    }
   ],
   "source": [
    "import replay_buffer as rb\n",
    "sample = rb.ReplayBuffer(50000)\n",
    "for i in range(100):\n",
    "    sample.add([23,2],[2],43,[3,1],float(True))\n",
    "obses_t, actions, rewards, obses_tp1, dones = sample.sample(32)\n",
    "sample.sample(1)"
   ]
  }
 ],
 "metadata": {
  "kernelspec": {
   "display_name": "Python 3",
   "language": "python",
   "name": "python3"
  },
  "language_info": {
   "codemirror_mode": {
    "name": "ipython",
    "version": 3
   },
   "file_extension": ".py",
   "mimetype": "text/x-python",
   "name": "python",
   "nbconvert_exporter": "python",
   "pygments_lexer": "ipython3",
   "version": "3.6.6"
  }
 },
 "nbformat": 4,
 "nbformat_minor": 2
}
